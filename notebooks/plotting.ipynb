{
 "cells": [
  {
   "cell_type": "code",
   "execution_count": null,
   "metadata": {},
   "outputs": [],
   "source": [
    "import ocf_blosc2  # noqa: F401\n",
    "import xarray as xr\n",
    "\n",
    "ds_sat = xr.open_zarr(\"path/to/new/satellite/directory/2020_nonhrv.zarr\")"
   ]
  },
  {
   "cell_type": "code",
   "execution_count": null,
   "metadata": {},
   "outputs": [],
   "source": [
    "ds_sat.sel(time=\"2020-06-01 12:00\", variable=\"VIS008\").data.plot()"
   ]
  },
  {
   "cell_type": "code",
   "execution_count": null,
   "metadata": {},
   "outputs": [],
   "source": [
    "timestamp = '2020-01-06T09:00:00.000000000'\n",
    "\n",
    "# Calculate the number of variables (columns)\n",
    "num_vars = len(ds_sat.variable)\n",
    "\n",
    "\n",
    "col_wrap = 3\n",
    "num_rows = (num_vars + 3) // col_wrap  # Using 4 as col_wrap, adjust if different\n",
    "\n",
    "# Calculate the figure size based on the image resolution of 614x372\n",
    "fig_width = 6.14 * col_wrap\n",
    "fig_height = 3.72 * num_rows\n",
    "\n",
    "ds_sat.sel(time=timestamp).data.plot(\n",
    "    col=\"variable\",\n",
    "    col_wrap=col_wrap,\n",
    "    figsize=(fig_width, fig_height),\n",
    "    robust=True,\n",
    ");"
   ]
  }
 ],
 "metadata": {
  "language_info": {
   "name": "python"
  }
 },
 "nbformat": 4,
 "nbformat_minor": 2
}
